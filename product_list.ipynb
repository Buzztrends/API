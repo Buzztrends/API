{
 "cells": [
  {
   "cell_type": "code",
   "execution_count": 1,
   "metadata": {},
   "outputs": [],
   "source": [
    "import pandas as pd"
   ]
  },
  {
   "cell_type": "code",
   "execution_count": 11,
   "metadata": {},
   "outputs": [
    {
     "data": {
      "text/html": [
       "<div>\n",
       "<style scoped>\n",
       "    .dataframe tbody tr th:only-of-type {\n",
       "        vertical-align: middle;\n",
       "    }\n",
       "\n",
       "    .dataframe tbody tr th {\n",
       "        vertical-align: top;\n",
       "    }\n",
       "\n",
       "    .dataframe thead th {\n",
       "        text-align: right;\n",
       "    }\n",
       "</style>\n",
       "<table border=\"1\" class=\"dataframe\">\n",
       "  <thead>\n",
       "    <tr style=\"text-align: right;\">\n",
       "      <th></th>\n",
       "      <th>Products</th>\n",
       "      <th>Description</th>\n",
       "      <th>Price</th>\n",
       "    </tr>\n",
       "  </thead>\n",
       "  <tbody>\n",
       "    <tr>\n",
       "      <th>0</th>\n",
       "      <td>3% Redensyl + 4% Anagain Hair Growth Serum</td>\n",
       "      <td>Promotes Hair Growth • Reduces Hair Fall • Boo...</td>\n",
       "      <td>Sale price₹895.00</td>\n",
       "    </tr>\n",
       "    <tr>\n",
       "      <th>1</th>\n",
       "      <td>Squalane Glow Moisturizer</td>\n",
       "      <td>Brightens Skin • Hydrates &amp; Smoothes • Youthfu...</td>\n",
       "      <td>Sale price₹550.00</td>\n",
       "    </tr>\n",
       "    <tr>\n",
       "      <th>2</th>\n",
       "      <td>Patuá &amp; Keratin Smoothening Shampoo</td>\n",
       "      <td>Strengthens Hair • Healthy Scalp • Enhances Shine</td>\n",
       "      <td>Sale price₹400.00</td>\n",
       "    </tr>\n",
       "    <tr>\n",
       "      <th>3</th>\n",
       "      <td>VITAMIN C Invisible Sunscreen SPF 50 PA+++ Aus...</td>\n",
       "      <td>Protects Natural Glow from UV Damage • Lightwe...</td>\n",
       "      <td>Sale price₹695.00</td>\n",
       "    </tr>\n",
       "    <tr>\n",
       "      <th>4</th>\n",
       "      <td>24K Gold Serum - 20ml</td>\n",
       "      <td>Enhances Natural Glow • Hydrates Deeply • Impr...</td>\n",
       "      <td>Sale price₹695.00</td>\n",
       "    </tr>\n",
       "    <tr>\n",
       "      <th>5</th>\n",
       "      <td>Matte Me Up! Liquid Lipstick</td>\n",
       "      <td>Smooth Glide, Rich Colour • Kiss-Proof, Transf...</td>\n",
       "      <td>Sale price₹495.00</td>\n",
       "    </tr>\n",
       "    <tr>\n",
       "      <th>6</th>\n",
       "      <td>OH THE DRAMA! Metallic Eyeliner</td>\n",
       "      <td>Rich Vibrant Colour, High Shine • All-Day Smud...</td>\n",
       "      <td>Sale price₹445.00</td>\n",
       "    </tr>\n",
       "  </tbody>\n",
       "</table>\n",
       "</div>"
      ],
      "text/plain": [
       "                                            Products  \\\n",
       "0         3% Redensyl + 4% Anagain Hair Growth Serum   \n",
       "1                          Squalane Glow Moisturizer   \n",
       "2                Patuá & Keratin Smoothening Shampoo   \n",
       "3  VITAMIN C Invisible Sunscreen SPF 50 PA+++ Aus...   \n",
       "4                              24K Gold Serum - 20ml   \n",
       "5                       Matte Me Up! Liquid Lipstick   \n",
       "6                    OH THE DRAMA! Metallic Eyeliner   \n",
       "\n",
       "                                         Description              Price  \n",
       "0  Promotes Hair Growth • Reduces Hair Fall • Boo...  Sale price₹895.00  \n",
       "1  Brightens Skin • Hydrates & Smoothes • Youthfu...  Sale price₹550.00  \n",
       "2  Strengthens Hair • Healthy Scalp • Enhances Shine  Sale price₹400.00  \n",
       "3  Protects Natural Glow from UV Damage • Lightwe...  Sale price₹695.00  \n",
       "4  Enhances Natural Glow • Hydrates Deeply • Impr...  Sale price₹695.00  \n",
       "5  Smooth Glide, Rich Colour • Kiss-Proof, Transf...  Sale price₹495.00  \n",
       "6  Rich Vibrant Colour, High Shine • All-Day Smud...  Sale price₹445.00  "
      ]
     },
     "execution_count": 11,
     "metadata": {},
     "output_type": "execute_result"
    }
   ],
   "source": [
    "data = pd.read_csv(\"/home/zee/Downloads/Pilgrim Catelogue - Sheet1.csv\")\n",
    "data"
   ]
  },
  {
   "cell_type": "code",
   "execution_count": 12,
   "metadata": {},
   "outputs": [],
   "source": [
    "products = {}\n",
    "for i in range(data.shape[0]):\n",
    "    products[data.loc[i,\"Products\"]] = {}\n",
    "    for col in data.columns[1:]:\n",
    "        products[data.loc[i,\"Products\"]][ f\"{col}\"]=data.loc[i,f\"{col}\"]"
   ]
  },
  {
   "cell_type": "code",
   "execution_count": 13,
   "metadata": {},
   "outputs": [
    {
     "name": "stdout",
     "output_type": "stream",
     "text": [
      "{'24K Gold Serum - 20ml': {'Description': 'Enhances Natural Glow • Hydrates '\n",
      "                                          'Deeply • Improves Skin Texture',\n",
      "                           'Price': 'Sale price₹695.00'},\n",
      " '3% Redensyl + 4% Anagain Hair Growth Serum': {'Description': 'Promotes Hair '\n",
      "                                                               'Growth • '\n",
      "                                                               'Reduces Hair '\n",
      "                                                               'Fall • Boosts '\n",
      "                                                               'Hair Density',\n",
      "                                                'Price': 'Sale price₹895.00'},\n",
      " 'Matte Me Up! Liquid Lipstick': {'Description': 'Smooth Glide, Rich Colour • '\n",
      "                                                 'Kiss-Proof, Transfer-Proof • '\n",
      "                                                 'Hydrating Spanish Squalane',\n",
      "                                  'Price': 'Sale price₹495.00'},\n",
      " 'OH THE DRAMA! Metallic Eyeliner': {'Description': 'Rich Vibrant Colour, High '\n",
      "                                                    'Shine • All-Day Smudge '\n",
      "                                                    'Proof • Easy Glide, Water '\n",
      "                                                    'Resistant',\n",
      "                                     'Price': 'Sale price₹445.00'},\n",
      " 'Patuá & Keratin Smoothening Shampoo': {'Description': 'Strengthens Hair • '\n",
      "                                                        'Healthy Scalp • '\n",
      "                                                        'Enhances Shine',\n",
      "                                         'Price': 'Sale price₹400.00'},\n",
      " 'Squalane Glow Moisturizer': {'Description': 'Brightens Skin • Hydrates & '\n",
      "                                              'Smoothes • Youthful Glow',\n",
      "                               'Price': 'Sale price₹550.00'},\n",
      " 'VITAMIN C Invisible Sunscreen SPF 50 PA+++ Australian Kakadu Plum': {'Description': 'Protects '\n",
      "                                                                                      'Natural '\n",
      "                                                                                      'Glow '\n",
      "                                                                                      'from '\n",
      "                                                                                      'UV '\n",
      "                                                                                      'Damage '\n",
      "                                                                                      '• '\n",
      "                                                                                      'Lightweight '\n",
      "                                                                                      'Gel '\n",
      "                                                                                      '• '\n",
      "                                                                                      'Doubles '\n",
      "                                                                                      'Up '\n",
      "                                                                                      'As '\n",
      "                                                                                      'A '\n",
      "                                                                                      'Primer',\n",
      "                                                                       'Price': 'Sale '\n",
      "                                                                                'price₹695.00'}}\n"
     ]
    }
   ],
   "source": [
    "from pprint import pprint\n",
    "pprint(products)"
   ]
  },
  {
   "cell_type": "code",
   "execution_count": 14,
   "metadata": {},
   "outputs": [
    {
     "data": {
      "text/plain": [
       "{'_id': ObjectId('656eca5a07c9157a0b829d0f'),\n",
       " 'company_id': 3894336111,\n",
       " 'company_name': 'Pilgrim',\n",
       " 'username': 'Pilgrim',\n",
       " 'password': 'JDJiJDEyJGg2dTBtS0FCZmU2TTNSU0cydmNaRU9vYzN5eHpXL0hFUFBiWjh6cmVFR3lnSi5oZXpGRENt',\n",
       " 'company_description': \"Embrace your radiant self with Pilgrim, a beauty brand dedicated to empowering you to reveal your natural beauty. Discover a curated collection of skincare and cosmetics crafted with the finest ingredients from nature's rich tapestry.Skincare: Immerse your skin in the goodness of nature with our range of cleansing, hydrating, and nourishing products. Cosmetics: Enhance your natural features with our range of makeup essentials, designed to accentuate your unique beauty.Wellness: Indulge in self-care rituals with our aromatherapy and wellness products, promoting inner peace and harmony.\",\n",
       " 'content_category': ' Cosmetics, Skin Care, Make-up and Beauty.',\n",
       " 'country': 'India',\n",
       " 'country_code': 'IN',\n",
       " 'generation_available': 99,\n",
       " 'products': {},\n",
       " 'moments': {'None': ''},\n",
       " 'saved_posts': {'under_review': [], 'reviewed': [], 'live': []},\n",
       " 'last_5_generations': [],\n",
       " 'saved_topics': []}"
      ]
     },
     "execution_count": 14,
     "metadata": {},
     "output_type": "execute_result"
    }
   ],
   "source": [
    "from pymongo import MongoClient\n",
    "client = MongoClient(\"mongodb://buzztrends-mongo:q4WNV6DL9V7Mq8UnbqL0gCRuTuuGCGl6DwJJPMmdb79QyaJSLkmrlgAFhsetijSxw9jmsvSlGmdEACDbYqshJQ==@buzztrends-mongo.mongo.cosmos.azure.com:10255/?ssl=true&retrywrites=false&replicaSet=globaldb&maxIdleTimeMS=120000&appName=@buzztrends-mongo@\")\n",
    "collection = client[\"users\"][\"user-data\"]\n",
    "collection.find_one_and_update(filter={\"username\":\"Pilgrim\"},update={\"$set\":{\"products\":products}})"
   ]
  },
  {
   "cell_type": "code",
   "execution_count": null,
   "metadata": {},
   "outputs": [],
   "source": [
    "def  prepare_prods(products:dict[str,dict[str,str]],prod):\n",
    "    ans = \"\"\n",
    "    temp = \"\"\n",
    "    for feature in products[prod].keys():\n",
    "        temp+=f\"{feature}:{products[prod][feature]}\\t\\t\"\n",
    "    ans+=f\" [{prod}:{temp}]\\n\"\n",
    "\n",
    "    return ans"
   ]
  },
  {
   "cell_type": "markdown",
   "metadata": {},
   "source": []
  }
 ],
 "metadata": {
  "kernelspec": {
   "display_name": "venv",
   "language": "python",
   "name": "python3"
  },
  "language_info": {
   "codemirror_mode": {
    "name": "ipython",
    "version": 3
   },
   "file_extension": ".py",
   "mimetype": "text/x-python",
   "name": "python",
   "nbconvert_exporter": "python",
   "pygments_lexer": "ipython3",
   "version": "3.11.6"
  },
  "orig_nbformat": 4
 },
 "nbformat": 4,
 "nbformat_minor": 2
}
